{
  "cells": [
    {
      "cell_type": "code",
      "execution_count": null,
      "metadata": {
        "id": "lwwBeBU_U2_D"
      },
      "outputs": [],
      "source": [
        "import numpy as np\n",
        "import pandas as pd\n",
        "from sklearn.model_selection import train_test_split\n",
        "from keras.utils.np_utils import to_categorical\n",
        "import seaborn as sns"
      ]
    },
    {
      "cell_type": "code",
      "execution_count": null,
      "metadata": {
        "colab": {
          "base_uri": "https://localhost:8080/"
        },
        "id": "s93Y67__biyB",
        "outputId": "66511f1a-e8c9-401a-e166-4dd41a17b648"
      },
      "outputs": [
        {
          "output_type": "stream",
          "name": "stdout",
          "text": [
            "Mounted at /content/drive\n"
          ]
        }
      ],
      "source": [
        "from google.colab import drive\n",
        "drive.mount('/content/drive')"
      ]
    },
    {
      "cell_type": "markdown",
      "metadata": {
        "id": "eDH0SvkSosMa"
      },
      "source": [
        "**Loading and PreProcessing of the dataset**"
      ]
    },
    {
      "cell_type": "code",
      "execution_count": null,
      "metadata": {
        "colab": {
          "base_uri": "https://localhost:8080/",
          "height": 488
        },
        "id": "gi6-9hjqctt7",
        "outputId": "11f145cd-e810-407f-f37f-564db13ec2d6"
      },
      "outputs": [
        {
          "output_type": "execute_result",
          "data": {
            "text/plain": [
              "       label  pixel0  pixel1  pixel2  pixel3  pixel4  pixel5  pixel6  pixel7  \\\n",
              "0         11       0       0       0       0       0       0       0       0   \n",
              "1         11       2       1       1       1       1       1       1       1   \n",
              "2         11       1       0       0       0       0       0       0       0   \n",
              "3         11       0       0       0       0       0       0       0       0   \n",
              "4         11       0       0       0       0       0       0       0       0   \n",
              "...      ...     ...     ...     ...     ...     ...     ...     ...     ...   \n",
              "85704     12       0       0       0       0       0       0       0       0   \n",
              "85705     12       0       0       0       0       0       0       0       0   \n",
              "85706     12       0       0       0       0       0       0       0       0   \n",
              "85707     12       0       0       0       0       0       0       0       0   \n",
              "85708     12       0       0       0       0       0       0       0       0   \n",
              "\n",
              "       pixel8  ...  pixel774  pixel775  pixel776  pixel777  pixel778  \\\n",
              "0           0  ...         0         0         0         0         0   \n",
              "1           1  ...         0         0         0         0         0   \n",
              "2           0  ...         0         0         0         0         0   \n",
              "3           0  ...         0         0         0         0         0   \n",
              "4           0  ...         0         0         0         0         0   \n",
              "...       ...  ...       ...       ...       ...       ...       ...   \n",
              "85704       0  ...         0         0         0         0         0   \n",
              "85705       0  ...         0         0         0         0         0   \n",
              "85706       0  ...         0         0         0         0         0   \n",
              "85707       0  ...         0         0         0         0         0   \n",
              "85708       0  ...         0         0         0         0         0   \n",
              "\n",
              "       pixel779  pixel780  pixel781  pixel782  pixel783  \n",
              "0             0         0         0         0         0  \n",
              "1             0         0         0         0         0  \n",
              "2             0         0         0         0         0  \n",
              "3             0         0         0         0         0  \n",
              "4             0         0         0         0         0  \n",
              "...         ...       ...       ...       ...       ...  \n",
              "85704         0         0         0         0         0  \n",
              "85705         0         0         0         0         0  \n",
              "85706         0         0         0         0         0  \n",
              "85707         0         0         0         0         0  \n",
              "85708         0         0         0         0         0  \n",
              "\n",
              "[85709 rows x 785 columns]"
            ],
            "text/html": [
              "\n",
              "  <div id=\"df-12a02207-0f1b-41cb-a09e-a1dcd98f4a07\">\n",
              "    <div class=\"colab-df-container\">\n",
              "      <div>\n",
              "<style scoped>\n",
              "    .dataframe tbody tr th:only-of-type {\n",
              "        vertical-align: middle;\n",
              "    }\n",
              "\n",
              "    .dataframe tbody tr th {\n",
              "        vertical-align: top;\n",
              "    }\n",
              "\n",
              "    .dataframe thead th {\n",
              "        text-align: right;\n",
              "    }\n",
              "</style>\n",
              "<table border=\"1\" class=\"dataframe\">\n",
              "  <thead>\n",
              "    <tr style=\"text-align: right;\">\n",
              "      <th></th>\n",
              "      <th>label</th>\n",
              "      <th>pixel0</th>\n",
              "      <th>pixel1</th>\n",
              "      <th>pixel2</th>\n",
              "      <th>pixel3</th>\n",
              "      <th>pixel4</th>\n",
              "      <th>pixel5</th>\n",
              "      <th>pixel6</th>\n",
              "      <th>pixel7</th>\n",
              "      <th>pixel8</th>\n",
              "      <th>...</th>\n",
              "      <th>pixel774</th>\n",
              "      <th>pixel775</th>\n",
              "      <th>pixel776</th>\n",
              "      <th>pixel777</th>\n",
              "      <th>pixel778</th>\n",
              "      <th>pixel779</th>\n",
              "      <th>pixel780</th>\n",
              "      <th>pixel781</th>\n",
              "      <th>pixel782</th>\n",
              "      <th>pixel783</th>\n",
              "    </tr>\n",
              "  </thead>\n",
              "  <tbody>\n",
              "    <tr>\n",
              "      <th>0</th>\n",
              "      <td>11</td>\n",
              "      <td>0</td>\n",
              "      <td>0</td>\n",
              "      <td>0</td>\n",
              "      <td>0</td>\n",
              "      <td>0</td>\n",
              "      <td>0</td>\n",
              "      <td>0</td>\n",
              "      <td>0</td>\n",
              "      <td>0</td>\n",
              "      <td>...</td>\n",
              "      <td>0</td>\n",
              "      <td>0</td>\n",
              "      <td>0</td>\n",
              "      <td>0</td>\n",
              "      <td>0</td>\n",
              "      <td>0</td>\n",
              "      <td>0</td>\n",
              "      <td>0</td>\n",
              "      <td>0</td>\n",
              "      <td>0</td>\n",
              "    </tr>\n",
              "    <tr>\n",
              "      <th>1</th>\n",
              "      <td>11</td>\n",
              "      <td>2</td>\n",
              "      <td>1</td>\n",
              "      <td>1</td>\n",
              "      <td>1</td>\n",
              "      <td>1</td>\n",
              "      <td>1</td>\n",
              "      <td>1</td>\n",
              "      <td>1</td>\n",
              "      <td>1</td>\n",
              "      <td>...</td>\n",
              "      <td>0</td>\n",
              "      <td>0</td>\n",
              "      <td>0</td>\n",
              "      <td>0</td>\n",
              "      <td>0</td>\n",
              "      <td>0</td>\n",
              "      <td>0</td>\n",
              "      <td>0</td>\n",
              "      <td>0</td>\n",
              "      <td>0</td>\n",
              "    </tr>\n",
              "    <tr>\n",
              "      <th>2</th>\n",
              "      <td>11</td>\n",
              "      <td>1</td>\n",
              "      <td>0</td>\n",
              "      <td>0</td>\n",
              "      <td>0</td>\n",
              "      <td>0</td>\n",
              "      <td>0</td>\n",
              "      <td>0</td>\n",
              "      <td>0</td>\n",
              "      <td>0</td>\n",
              "      <td>...</td>\n",
              "      <td>0</td>\n",
              "      <td>0</td>\n",
              "      <td>0</td>\n",
              "      <td>0</td>\n",
              "      <td>0</td>\n",
              "      <td>0</td>\n",
              "      <td>0</td>\n",
              "      <td>0</td>\n",
              "      <td>0</td>\n",
              "      <td>0</td>\n",
              "    </tr>\n",
              "    <tr>\n",
              "      <th>3</th>\n",
              "      <td>11</td>\n",
              "      <td>0</td>\n",
              "      <td>0</td>\n",
              "      <td>0</td>\n",
              "      <td>0</td>\n",
              "      <td>0</td>\n",
              "      <td>0</td>\n",
              "      <td>0</td>\n",
              "      <td>0</td>\n",
              "      <td>0</td>\n",
              "      <td>...</td>\n",
              "      <td>0</td>\n",
              "      <td>0</td>\n",
              "      <td>0</td>\n",
              "      <td>0</td>\n",
              "      <td>0</td>\n",
              "      <td>0</td>\n",
              "      <td>0</td>\n",
              "      <td>0</td>\n",
              "      <td>0</td>\n",
              "      <td>0</td>\n",
              "    </tr>\n",
              "    <tr>\n",
              "      <th>4</th>\n",
              "      <td>11</td>\n",
              "      <td>0</td>\n",
              "      <td>0</td>\n",
              "      <td>0</td>\n",
              "      <td>0</td>\n",
              "      <td>0</td>\n",
              "      <td>0</td>\n",
              "      <td>0</td>\n",
              "      <td>0</td>\n",
              "      <td>0</td>\n",
              "      <td>...</td>\n",
              "      <td>0</td>\n",
              "      <td>0</td>\n",
              "      <td>0</td>\n",
              "      <td>0</td>\n",
              "      <td>0</td>\n",
              "      <td>0</td>\n",
              "      <td>0</td>\n",
              "      <td>0</td>\n",
              "      <td>0</td>\n",
              "      <td>0</td>\n",
              "    </tr>\n",
              "    <tr>\n",
              "      <th>...</th>\n",
              "      <td>...</td>\n",
              "      <td>...</td>\n",
              "      <td>...</td>\n",
              "      <td>...</td>\n",
              "      <td>...</td>\n",
              "      <td>...</td>\n",
              "      <td>...</td>\n",
              "      <td>...</td>\n",
              "      <td>...</td>\n",
              "      <td>...</td>\n",
              "      <td>...</td>\n",
              "      <td>...</td>\n",
              "      <td>...</td>\n",
              "      <td>...</td>\n",
              "      <td>...</td>\n",
              "      <td>...</td>\n",
              "      <td>...</td>\n",
              "      <td>...</td>\n",
              "      <td>...</td>\n",
              "      <td>...</td>\n",
              "      <td>...</td>\n",
              "    </tr>\n",
              "    <tr>\n",
              "      <th>85704</th>\n",
              "      <td>12</td>\n",
              "      <td>0</td>\n",
              "      <td>0</td>\n",
              "      <td>0</td>\n",
              "      <td>0</td>\n",
              "      <td>0</td>\n",
              "      <td>0</td>\n",
              "      <td>0</td>\n",
              "      <td>0</td>\n",
              "      <td>0</td>\n",
              "      <td>...</td>\n",
              "      <td>0</td>\n",
              "      <td>0</td>\n",
              "      <td>0</td>\n",
              "      <td>0</td>\n",
              "      <td>0</td>\n",
              "      <td>0</td>\n",
              "      <td>0</td>\n",
              "      <td>0</td>\n",
              "      <td>0</td>\n",
              "      <td>0</td>\n",
              "    </tr>\n",
              "    <tr>\n",
              "      <th>85705</th>\n",
              "      <td>12</td>\n",
              "      <td>0</td>\n",
              "      <td>0</td>\n",
              "      <td>0</td>\n",
              "      <td>0</td>\n",
              "      <td>0</td>\n",
              "      <td>0</td>\n",
              "      <td>0</td>\n",
              "      <td>0</td>\n",
              "      <td>0</td>\n",
              "      <td>...</td>\n",
              "      <td>0</td>\n",
              "      <td>0</td>\n",
              "      <td>0</td>\n",
              "      <td>0</td>\n",
              "      <td>0</td>\n",
              "      <td>0</td>\n",
              "      <td>0</td>\n",
              "      <td>0</td>\n",
              "      <td>0</td>\n",
              "      <td>0</td>\n",
              "    </tr>\n",
              "    <tr>\n",
              "      <th>85706</th>\n",
              "      <td>12</td>\n",
              "      <td>0</td>\n",
              "      <td>0</td>\n",
              "      <td>0</td>\n",
              "      <td>0</td>\n",
              "      <td>0</td>\n",
              "      <td>0</td>\n",
              "      <td>0</td>\n",
              "      <td>0</td>\n",
              "      <td>0</td>\n",
              "      <td>...</td>\n",
              "      <td>0</td>\n",
              "      <td>0</td>\n",
              "      <td>0</td>\n",
              "      <td>0</td>\n",
              "      <td>0</td>\n",
              "      <td>0</td>\n",
              "      <td>0</td>\n",
              "      <td>0</td>\n",
              "      <td>0</td>\n",
              "      <td>0</td>\n",
              "    </tr>\n",
              "    <tr>\n",
              "      <th>85707</th>\n",
              "      <td>12</td>\n",
              "      <td>0</td>\n",
              "      <td>0</td>\n",
              "      <td>0</td>\n",
              "      <td>0</td>\n",
              "      <td>0</td>\n",
              "      <td>0</td>\n",
              "      <td>0</td>\n",
              "      <td>0</td>\n",
              "      <td>0</td>\n",
              "      <td>...</td>\n",
              "      <td>0</td>\n",
              "      <td>0</td>\n",
              "      <td>0</td>\n",
              "      <td>0</td>\n",
              "      <td>0</td>\n",
              "      <td>0</td>\n",
              "      <td>0</td>\n",
              "      <td>0</td>\n",
              "      <td>0</td>\n",
              "      <td>0</td>\n",
              "    </tr>\n",
              "    <tr>\n",
              "      <th>85708</th>\n",
              "      <td>12</td>\n",
              "      <td>0</td>\n",
              "      <td>0</td>\n",
              "      <td>0</td>\n",
              "      <td>0</td>\n",
              "      <td>0</td>\n",
              "      <td>0</td>\n",
              "      <td>0</td>\n",
              "      <td>0</td>\n",
              "      <td>0</td>\n",
              "      <td>...</td>\n",
              "      <td>0</td>\n",
              "      <td>0</td>\n",
              "      <td>0</td>\n",
              "      <td>0</td>\n",
              "      <td>0</td>\n",
              "      <td>0</td>\n",
              "      <td>0</td>\n",
              "      <td>0</td>\n",
              "      <td>0</td>\n",
              "      <td>0</td>\n",
              "    </tr>\n",
              "  </tbody>\n",
              "</table>\n",
              "<p>85709 rows × 785 columns</p>\n",
              "</div>\n",
              "      <button class=\"colab-df-convert\" onclick=\"convertToInteractive('df-12a02207-0f1b-41cb-a09e-a1dcd98f4a07')\"\n",
              "              title=\"Convert this dataframe to an interactive table.\"\n",
              "              style=\"display:none;\">\n",
              "        \n",
              "  <svg xmlns=\"http://www.w3.org/2000/svg\" height=\"24px\"viewBox=\"0 0 24 24\"\n",
              "       width=\"24px\">\n",
              "    <path d=\"M0 0h24v24H0V0z\" fill=\"none\"/>\n",
              "    <path d=\"M18.56 5.44l.94 2.06.94-2.06 2.06-.94-2.06-.94-.94-2.06-.94 2.06-2.06.94zm-11 1L8.5 8.5l.94-2.06 2.06-.94-2.06-.94L8.5 2.5l-.94 2.06-2.06.94zm10 10l.94 2.06.94-2.06 2.06-.94-2.06-.94-.94-2.06-.94 2.06-2.06.94z\"/><path d=\"M17.41 7.96l-1.37-1.37c-.4-.4-.92-.59-1.43-.59-.52 0-1.04.2-1.43.59L10.3 9.45l-7.72 7.72c-.78.78-.78 2.05 0 2.83L4 21.41c.39.39.9.59 1.41.59.51 0 1.02-.2 1.41-.59l7.78-7.78 2.81-2.81c.8-.78.8-2.07 0-2.86zM5.41 20L4 18.59l7.72-7.72 1.47 1.35L5.41 20z\"/>\n",
              "  </svg>\n",
              "      </button>\n",
              "      \n",
              "  <style>\n",
              "    .colab-df-container {\n",
              "      display:flex;\n",
              "      flex-wrap:wrap;\n",
              "      gap: 12px;\n",
              "    }\n",
              "\n",
              "    .colab-df-convert {\n",
              "      background-color: #E8F0FE;\n",
              "      border: none;\n",
              "      border-radius: 50%;\n",
              "      cursor: pointer;\n",
              "      display: none;\n",
              "      fill: #1967D2;\n",
              "      height: 32px;\n",
              "      padding: 0 0 0 0;\n",
              "      width: 32px;\n",
              "    }\n",
              "\n",
              "    .colab-df-convert:hover {\n",
              "      background-color: #E2EBFA;\n",
              "      box-shadow: 0px 1px 2px rgba(60, 64, 67, 0.3), 0px 1px 3px 1px rgba(60, 64, 67, 0.15);\n",
              "      fill: #174EA6;\n",
              "    }\n",
              "\n",
              "    [theme=dark] .colab-df-convert {\n",
              "      background-color: #3B4455;\n",
              "      fill: #D2E3FC;\n",
              "    }\n",
              "\n",
              "    [theme=dark] .colab-df-convert:hover {\n",
              "      background-color: #434B5C;\n",
              "      box-shadow: 0px 1px 3px 1px rgba(0, 0, 0, 0.15);\n",
              "      filter: drop-shadow(0px 1px 2px rgba(0, 0, 0, 0.3));\n",
              "      fill: #FFFFFF;\n",
              "    }\n",
              "  </style>\n",
              "\n",
              "      <script>\n",
              "        const buttonEl =\n",
              "          document.querySelector('#df-12a02207-0f1b-41cb-a09e-a1dcd98f4a07 button.colab-df-convert');\n",
              "        buttonEl.style.display =\n",
              "          google.colab.kernel.accessAllowed ? 'block' : 'none';\n",
              "\n",
              "        async function convertToInteractive(key) {\n",
              "          const element = document.querySelector('#df-12a02207-0f1b-41cb-a09e-a1dcd98f4a07');\n",
              "          const dataTable =\n",
              "            await google.colab.kernel.invokeFunction('convertToInteractive',\n",
              "                                                     [key], {});\n",
              "          if (!dataTable) return;\n",
              "\n",
              "          const docLinkHtml = 'Like what you see? Visit the ' +\n",
              "            '<a target=\"_blank\" href=https://colab.research.google.com/notebooks/data_table.ipynb>data table notebook</a>'\n",
              "            + ' to learn more about interactive tables.';\n",
              "          element.innerHTML = '';\n",
              "          dataTable['output_type'] = 'display_data';\n",
              "          await google.colab.output.renderOutput(dataTable, element);\n",
              "          const docLink = document.createElement('div');\n",
              "          docLink.innerHTML = docLinkHtml;\n",
              "          element.appendChild(docLink);\n",
              "        }\n",
              "      </script>\n",
              "    </div>\n",
              "  </div>\n",
              "  "
            ]
          },
          "metadata": {},
          "execution_count": 3
        }
      ],
      "source": [
        "data = pd.read_csv(\"/content/drive/MyDrive/Datasets/dataset.csv\")\n",
        "data"
      ]
    },
    {
      "cell_type": "code",
      "execution_count": null,
      "metadata": {
        "id": "D4KImCLXlZPP"
      },
      "outputs": [],
      "source": [
        "X = data.iloc[:,1:]\n",
        "y = data.label\n",
        "del data"
      ]
    },
    {
      "cell_type": "code",
      "execution_count": null,
      "metadata": {
        "colab": {
          "base_uri": "https://localhost:8080/"
        },
        "id": "8eh5rth2lsi9",
        "outputId": "8846951e-9305-402e-cbe9-d4e2f269a1df"
      },
      "outputs": [
        {
          "output_type": "execute_result",
          "data": {
            "text/plain": [
              "11    22164\n",
              "12    21387\n",
              "1      4684\n",
              "7      4401\n",
              "3      4351\n",
              "9      4188\n",
              "2      4177\n",
              "6      4137\n",
              "0      4132\n",
              "4      4072\n",
              "8      4063\n",
              "5      3795\n",
              "13       80\n",
              "10       78\n",
              "Name: label, dtype: int64"
            ]
          },
          "metadata": {},
          "execution_count": 5
        }
      ],
      "source": [
        "y.value_counts()"
      ]
    },
    {
      "cell_type": "code",
      "execution_count": null,
      "metadata": {
        "id": "4eCJeXXql_Ft"
      },
      "outputs": [],
      "source": [
        "X = X/255.0 #grayscale normalization"
      ]
    },
    {
      "cell_type": "code",
      "execution_count": null,
      "metadata": {
        "colab": {
          "base_uri": "https://localhost:8080/"
        },
        "id": "nfxNdwcRmWpR",
        "outputId": "594437bc-1a26-4acc-95fb-badfe4a585e1"
      },
      "outputs": [
        {
          "output_type": "execute_result",
          "data": {
            "text/plain": [
              "(85709, 28, 28, 1)"
            ]
          },
          "metadata": {},
          "execution_count": 7
        }
      ],
      "source": [
        "X = X.values.reshape(-1,28,28,1)\n",
        "X.shape"
      ]
    },
    {
      "cell_type": "code",
      "execution_count": null,
      "metadata": {
        "colab": {
          "base_uri": "https://localhost:8080/"
        },
        "id": "pbldffGUmgWj",
        "outputId": "4636f547-3d52-4641-c84b-d57ebca86221"
      },
      "outputs": [
        {
          "output_type": "execute_result",
          "data": {
            "text/plain": [
              "(85709, 14)"
            ]
          },
          "metadata": {},
          "execution_count": 8
        }
      ],
      "source": [
        "y = to_categorical(y, num_classes = 14)\n",
        "y.shape"
      ]
    },
    {
      "cell_type": "code",
      "execution_count": null,
      "metadata": {
        "colab": {
          "base_uri": "https://localhost:8080/"
        },
        "id": "9g3os32gnCB5",
        "outputId": "97d49a42-f4ee-42f4-8e00-72ce77d06baf"
      },
      "outputs": [
        {
          "output_type": "execute_result",
          "data": {
            "text/plain": [
              "array([[0., 0., 0., ..., 1., 0., 0.],\n",
              "       [0., 0., 0., ..., 1., 0., 0.],\n",
              "       [0., 0., 0., ..., 1., 0., 0.],\n",
              "       ...,\n",
              "       [0., 0., 0., ..., 0., 1., 0.],\n",
              "       [0., 0., 0., ..., 0., 1., 0.],\n",
              "       [0., 0., 0., ..., 0., 1., 0.]], dtype=float32)"
            ]
          },
          "metadata": {},
          "execution_count": 9
        }
      ],
      "source": [
        "y"
      ]
    },
    {
      "cell_type": "code",
      "execution_count": null,
      "metadata": {
        "id": "mvPPtcoVnDVV"
      },
      "outputs": [],
      "source": [
        "randomSeed = 2\n",
        "X_train, X_test, y_train, y_test = train_test_split(X,y,test_size=0.1,random_state = randomSeed)"
      ]
    },
    {
      "cell_type": "markdown",
      "metadata": {
        "id": "QXYoMFuKo-ke"
      },
      "source": [
        "**Building CNN model using keras**"
      ]
    },
    {
      "cell_type": "code",
      "execution_count": null,
      "metadata": {
        "id": "eUZNiA0boYJI"
      },
      "outputs": [],
      "source": [
        "from tensorflow import keras\n",
        "from keras.models import Sequential\n",
        "from keras.layers import Conv2D,Dense,Dropout,MaxPool2D,Flatten\n",
        "from tensorflow.keras.optimizers import RMSprop\n",
        "from keras.preprocessing.image import ImageDataGenerator\n",
        "from keras.callbacks import ReduceLROnPlateau"
      ]
    },
    {
      "cell_type": "code",
      "execution_count": null,
      "metadata": {
        "id": "E2NqNj7xpx73"
      },
      "outputs": [],
      "source": [
        "model = Sequential()"
      ]
    },
    {
      "cell_type": "code",
      "execution_count": null,
      "metadata": {
        "id": "0SgY33zcqYeu"
      },
      "outputs": [],
      "source": [
        "#layer1\n",
        "model.add(Conv2D(filters = 32, kernel_size = (5,5), padding = \"Same\", activation = \"relu\", input_shape = (28, 28, 1)))\n",
        "model.add(Conv2D(filters = 32, kernel_size = (5,5), padding = \"Same\", activation = \"relu\"))\n",
        "model.add(MaxPool2D(pool_size = (2,2)))\n",
        "model.add(Dropout(0.25))"
      ]
    },
    {
      "cell_type": "code",
      "execution_count": null,
      "metadata": {
        "id": "Xmx_Bg2_q9l9"
      },
      "outputs": [],
      "source": [
        "#layer2\n",
        "model.add(Conv2D(filters = 64, kernel_size = (3,3), padding = \"Same\", activation = \"relu\"))\n",
        "model.add(Conv2D(filters = 64, kernel_size = (3,3), padding = \"Same\", activation = \"relu\"))\n",
        "model.add(MaxPool2D(pool_size = (2,2)))\n",
        "model.add(Dropout(0.25))"
      ]
    },
    {
      "cell_type": "code",
      "execution_count": null,
      "metadata": {
        "id": "oYsjmGTUrCG1"
      },
      "outputs": [],
      "source": [
        "#prediction layer\n",
        "model.add(Flatten())\n",
        "model.add(Dense(256, activation = \"relu\"))\n",
        "model.add(Dropout(0.25))\n",
        "model.add(Dense(14, activation = \"softmax\"))"
      ]
    },
    {
      "cell_type": "code",
      "execution_count": null,
      "metadata": {
        "id": "n9NW1PVJrH8s"
      },
      "outputs": [],
      "source": [
        "opt = RMSprop(learning_rate = 0.001, rho = 0.9, epsilon = 1e-08, decay=0.0 )\n",
        "model.compile(optimizer = opt, loss = \"categorical_crossentropy\", metrics = [\"accuracy\"])\n",
        "#callback\n",
        "learning_rate_reduction = ReduceLROnPlateau(monitor = \"val_accuracy\",\n",
        "                                            patience = 3,\n",
        "                                            verbose = 1,\n",
        "                                            factor = 0.5,\n",
        "                                            min_lr = 0.0001)"
      ]
    },
    {
      "cell_type": "code",
      "execution_count": null,
      "metadata": {
        "id": "fn3VQ2-rQQbJ"
      },
      "outputs": [],
      "source": [
        "#data augmentation\n",
        "augmentation = ImageDataGenerator(\n",
        "        featurewise_center=False,  # set input mean to 0 over the dataset\n",
        "        samplewise_center=False,  # set each sample mean to 0\n",
        "        featurewise_std_normalization=False,  # divide inputs by std of the dataset\n",
        "        samplewise_std_normalization=False,  # divide each input by its std\n",
        "        zca_whitening=False,  # apply ZCA whitening\n",
        "        rotation_range=10,  # randomly rotate images in the range (degrees, 0 to 180)\n",
        "        zoom_range = 0.1, # Randomly zoom image \n",
        "        width_shift_range=0.1,  # randomly shift images horizontally (fraction of total width)\n",
        "        height_shift_range=0.1,  # randomly shift images vertically (fraction of total height)\n",
        "        horizontal_flip=False,  # randomly flip images\n",
        "        vertical_flip=False)  # randomly flip images\n",
        "augmentation.fit(X_train)"
      ]
    },
    {
      "cell_type": "code",
      "execution_count": null,
      "metadata": {
        "id": "aGe3uLphSZQi"
      },
      "outputs": [],
      "source": [
        "#preparing the hyperparameters\n",
        "epoch = 5\n",
        "mini_batch = 86"
      ]
    },
    {
      "cell_type": "code",
      "execution_count": null,
      "metadata": {
        "colab": {
          "base_uri": "https://localhost:8080/"
        },
        "id": "YbDfdYVNTMd8",
        "outputId": "a95452f3-3fa5-447e-a4a1-5c11a427d139"
      },
      "outputs": [
        {
          "name": "stdout",
          "output_type": "stream",
          "text": [
            "Epoch 1/5\n"
          ]
        },
        {
          "name": "stderr",
          "output_type": "stream",
          "text": [
            "/usr/local/lib/python3.7/dist-packages/ipykernel_launcher.py:7: UserWarning: `Model.fit_generator` is deprecated and will be removed in a future version. Please use `Model.fit`, which supports generators.\n",
            "  import sys\n"
          ]
        },
        {
          "name": "stdout",
          "output_type": "stream",
          "text": [
            "896/896 [==============================] - 38s 29ms/step - loss: 0.2709 - accuracy: 0.9173 - val_loss: 0.0620 - val_accuracy: 0.9818 - lr: 0.0010\n",
            "Epoch 2/5\n",
            "896/896 [==============================] - 27s 30ms/step - loss: 0.0782 - accuracy: 0.9768 - val_loss: 0.0323 - val_accuracy: 0.9901 - lr: 0.0010\n",
            "Epoch 3/5\n",
            "896/896 [==============================] - 25s 28ms/step - loss: 0.0609 - accuracy: 0.9823 - val_loss: 0.0278 - val_accuracy: 0.9921 - lr: 0.0010\n",
            "Epoch 4/5\n",
            "896/896 [==============================] - 23s 26ms/step - loss: 0.0547 - accuracy: 0.9845 - val_loss: 0.0255 - val_accuracy: 0.9937 - lr: 0.0010\n",
            "Epoch 5/5\n",
            "896/896 [==============================] - 27s 30ms/step - loss: 0.0549 - accuracy: 0.9847 - val_loss: 0.0382 - val_accuracy: 0.9897 - lr: 0.0010\n"
          ]
        }
      ],
      "source": [
        "#trainig the model\n",
        "history = model.fit_generator(\n",
        "                                augmentation.flow(X_train,y_train, batch_size=mini_batch),\n",
        "                                epochs = epoch, #An epoch is an iteration over the entire x and y data provided\n",
        "                                validation_data = (X_test,y_test), #Data on which to evaluate the loss and any model metrics at the end of each epoch. \n",
        "                                verbose = 1, #output\n",
        "                                steps_per_epoch=X_train.shape[0] // mini_batch,  # Total number of steps (batches of samples) before declaring one epoch finished and starting the next epoch.\n",
        "                                callbacks=[learning_rate_reduction]                            \n",
        "                              )\n"
      ]
    },
    {
      "cell_type": "code",
      "execution_count": null,
      "metadata": {
        "id": "45ofvJLRTnbV"
      },
      "outputs": [],
      "source": [
        "#saving the model for use\n",
        "model.save(\"kessu.h5\")  "
      ]
    },
    {
      "cell_type": "code",
      "execution_count": null,
      "metadata": {
        "id": "8r_vIOLXVBGD"
      },
      "outputs": [],
      "source": [
        "#Prediction\n",
        "\n",
        "from PIL import Image\n",
        "from itertools import groupby\n",
        "\n",
        "'loading image in grayscale'\n",
        "image = Image.open(\"/content/7a472b75-e4d2-48bc-9a9b-7154c7f8a851.jpg\").convert(\"L\")\n",
        "\n",
        "w = image.size[0]\n",
        "h = image.size[1]\n",
        "ratio = w/h\n",
        "new_w = int(ratio*28)\n",
        "new_h = 28\n",
        "new_image = image.resize((new_w,new_h))\n",
        "new_image_arr = np.array(new_image)\n",
        "new_inv_image_arr = 255 - new_image_arr\n",
        "final_image_arr = new_inv_image_arr/255.0\n",
        "m = final_image_arr.any(0)\n",
        "out = [final_image_arr[:,[*g]] for k, g in groupby(np.arange(len(m)), lambda x: m[x] != 0) if k]\n",
        "num_of_elements = len(out)\n",
        "elements_list = []\n",
        "print(num_of_elements)\n",
        "for x in range(0, num_of_elements):\n",
        "    img = out[x]\n",
        "    print(img.shape)\n",
        "    #adding 0 value columns as fillers\n",
        "    width = img.shape[1]\n",
        "      filler = (final_image_arr.shape[0] - width) / 2\n",
        "      \n",
        "      if filler.is_integer() == False:    #odd number of filler columns\n",
        "          filler_l = int(filler)\n",
        "          filler_r = int(filler) + 1\n",
        "      else:                               #even number of filler columns\n",
        "          filler_l = int(filler)\n",
        "          filler_r = int(filler)\n",
        "      \n",
        "      arr_l = np.zeros((final_image_arr.shape[0], filler_l)) #left fillers\n",
        "      arr_r = np.zeros((final_image_arr.shape[0], filler_r)) #right fillers\n",
        "      \n",
        "      #concatinating the left and right fillers\n",
        "      help_ = np.concatenate((arr_l, img), axis= 1)\n",
        "      element_arr = np.concatenate((help_, arr_r), axis= 1)\n",
        "      \n",
        "      element_arr.resize(28, 28, 1) #resize array 2d to 3d\n",
        "    #storing all elements in a list\n",
        "    elements_list.append(element_arr)\n",
        "elements_array = np.array(elements_list)\n",
        "'reshaping to fit model input criteria'\n",
        "elements_array = elements_array.reshape(-1, 28, 28, 1)\n",
        "'predicting using the created model'\n",
        "model = keras.models.load_model(\"/content/drive/MyDrive/Models/kessu.h5\")\n",
        "elements_pred =  model.predict(elements_array)\n",
        "elements_pred = np.argmax(elements_pred, axis = 1)"
      ]
    },
    {
      "cell_type": "code",
      "execution_count": null,
      "metadata": {
        "colab": {
          "base_uri": "https://localhost:8080/"
        },
        "id": "-gbi9ZwpVvDt",
        "outputId": "447e6409-83db-4dcd-f171-79a99b41d428"
      },
      "outputs": [
        {
          "output_type": "execute_result",
          "data": {
            "text/plain": [
              "array([11,  2, 11,  9,  4,  1])"
            ]
          },
          "metadata": {},
          "execution_count": 9
        }
      ],
      "source": [
        "elements_pred"
      ]
    },
    {
      "cell_type": "code",
      "execution_count": null,
      "metadata": {
        "colab": {
          "base_uri": "https://localhost:8080/"
        },
        "id": "KintalrGbyY1",
        "outputId": "e53a195f-e4a7-4d12-e305-c17b38e9ae56"
      },
      "outputs": [
        {
          "name": "stdout",
          "output_type": "stream",
          "text": [
            "79 + 31 - 12 / 3 * 2 = 102.0\n"
          ]
        }
      ],
      "source": [
        "\n",
        "\n",
        "def math_expression_generator(arr):\n",
        "    \n",
        "    op = {\n",
        "              10,   # = \"/\"\n",
        "              11,   # = \"+\"\n",
        "              12,   # = \"-\"\n",
        "              13    # = \"*\"\n",
        "                  }   \n",
        "    \n",
        "    m_exp = []\n",
        "    temp = []\n",
        "        \n",
        "    'creating a list separating all elements'\n",
        "    for item in arr:\n",
        "        if item not in op:\n",
        "            temp.append(item)\n",
        "        else:\n",
        "            m_exp.append(temp)\n",
        "            m_exp.append(item)\n",
        "            temp = []\n",
        "    if temp:\n",
        "        m_exp.append(temp)\n",
        "        \n",
        "    'converting the elements to numbers and operators'\n",
        "    i = 0\n",
        "    num = 0\n",
        "    for item in m_exp:\n",
        "        if type(item) == list:\n",
        "            if not item:\n",
        "                m_exp[i] = \"\"\n",
        "                i = i + 1\n",
        "            else:\n",
        "                num_len = len(item)\n",
        "                for digit in item:\n",
        "                    num_len = num_len - 1\n",
        "                    num = num + ((10 ** num_len) * digit)\n",
        "                m_exp[i] = str(num)\n",
        "                num = 0\n",
        "                i = i + 1\n",
        "        else:\n",
        "            m_exp[i] = str(item)\n",
        "            m_exp[i] = m_exp[i].replace(\"10\",\"/\")\n",
        "            m_exp[i] = m_exp[i].replace(\"11\",\"+\")\n",
        "            m_exp[i] = m_exp[i].replace(\"12\",\"-\")\n",
        "            m_exp[i] = m_exp[i].replace(\"13\",\"*\")\n",
        "            \n",
        "            i = i + 1\n",
        "    \n",
        "    \n",
        "    'joining the list of strings to create the mathematical expression'\n",
        "    separator = ' '\n",
        "    m_exp_str = separator.join(m_exp)\n",
        "    \n",
        "    return (m_exp_str)\n",
        "\n",
        "'creating the mathematical expression'\n",
        "m_exp_str = math_expression_generator(elements_pred)\n",
        "\n",
        "'calculating the mathematical expression using eval()'\n",
        "while True:\n",
        "    try:\n",
        "        answer = eval(m_exp_str)    #evaluating the answer\n",
        "        answer = round(answer, 2)\n",
        "        equation  = m_exp_str + \" = \" + str(answer)\n",
        "        print(equation)   #printing the equation\n",
        "        break\n",
        "\n",
        "    except SyntaxError:\n",
        "        print(\"Invalid predicted expression!!\")\n",
        "        print(\"Following is the predicted expression:\")\n",
        "        print(m_exp_str)\n",
        "        break"
      ]
    },
    {
      "cell_type": "code",
      "execution_count": null,
      "metadata": {
        "colab": {
          "base_uri": "https://localhost:8080/"
        },
        "id": "NoEmxK87yWY0",
        "outputId": "2be6acda-b6a9-4d08-c2da-559cd1330d88"
      },
      "outputs": [
        {
          "name": "stdout",
          "output_type": "stream",
          "text": [
            "[[67 67 67 ... 61 63 64]\n",
            " [67 67 67 ... 59 60 63]\n",
            " [67 68 69 ... 59 58 60]\n",
            " ...\n",
            " [72 71 71 ... 81 80 81]\n",
            " [70 71 71 ... 82 82 82]\n",
            " [71 71 71 ... 82 83 82]]\n"
          ]
        }
      ],
      "source": [
        "print(new_inv_image_arr)"
      ]
    },
    {
      "cell_type": "code",
      "execution_count": null,
      "metadata": {
        "colab": {
          "base_uri": "https://localhost:8080/"
        },
        "id": "QTJgPKv8yyRx",
        "outputId": "ee1ccb46-106f-4540-dd43-2bf6e6c010ea"
      },
      "outputs": [
        {
          "name": "stdout",
          "output_type": "stream",
          "text": [
            "[[188 188 188 ... 194 192 191]\n",
            " [188 188 188 ... 196 195 192]\n",
            " [188 187 186 ... 196 197 195]\n",
            " ...\n",
            " [183 184 184 ... 174 175 174]\n",
            " [185 184 184 ... 173 173 173]\n",
            " [184 184 184 ... 173 172 173]]\n"
          ]
        }
      ],
      "source": [
        "print(new_image_arr)"
      ]
    },
    {
      "cell_type": "code",
      "execution_count": null,
      "metadata": {
        "id": "dd7d2HkGzM_j"
      },
      "outputs": [],
      "source": [
        "#Prediction\n",
        "\n",
        "from PIL import Image\n",
        "from itertools import groupby\n",
        "\n",
        "'loading image in grayscale'\n",
        "image = Image.open(\"/content/drive/MyDrive/Datasets/Testing Photos/matrix1.jpg\").convert(\"L\")\n",
        "new_image_arr = np.array(image)\n",
        "new_inv_image_arr = 255 - new_image_arr\n",
        "#final_image_arr = new_inv_image_arr/255.0\n",
        "n = new_inv_image_arr.any(1)\n",
        "rows = [new_inv_image_arr[[*g],:] for k, g in groupby(np.arange(len(n)), lambda x: n[x] != 0) if k]"
      ]
    },
    {
      "cell_type": "code",
      "source": [
        "Image.fromarray(new_inv_image_arr).size"
      ],
      "metadata": {
        "colab": {
          "base_uri": "https://localhost:8080/"
        },
        "id": "w8Qq0JBL1BEV",
        "outputId": "2163c6ec-a223-402d-9ed9-6f5b51ad423a"
      },
      "execution_count": null,
      "outputs": [
        {
          "output_type": "execute_result",
          "data": {
            "text/plain": [
              "(462, 332)"
            ]
          },
          "metadata": {},
          "execution_count": 32
        }
      ]
    },
    {
      "cell_type": "code",
      "source": [
        "new_inv_image_arr.shape"
      ],
      "metadata": {
        "colab": {
          "base_uri": "https://localhost:8080/"
        },
        "id": "JBUV4T5011MB",
        "outputId": "6d2f3d6a-2f60-4d63-ddb3-11045b7ca62b"
      },
      "execution_count": null,
      "outputs": [
        {
          "output_type": "execute_result",
          "data": {
            "text/plain": [
              "(332, 462)"
            ]
          },
          "metadata": {},
          "execution_count": 30
        }
      ]
    },
    {
      "cell_type": "code",
      "execution_count": null,
      "metadata": {
        "colab": {
          "base_uri": "https://localhost:8080/"
        },
        "id": "mdH2sKQrHNQs",
        "outputId": "e711392e-9850-42f8-cfca-5c407faee349"
      },
      "outputs": [
        {
          "output_type": "execute_result",
          "data": {
            "text/plain": [
              "array([False, False, False, False, False, False, False, False,  True,\n",
              "        True,  True,  True,  True,  True,  True,  True,  True,  True,\n",
              "        True,  True,  True,  True,  True,  True,  True,  True,  True,\n",
              "        True,  True,  True,  True,  True,  True,  True,  True,  True,\n",
              "        True,  True,  True,  True,  True,  True,  True,  True,  True,\n",
              "        True,  True,  True,  True,  True,  True,  True,  True,  True,\n",
              "        True,  True,  True,  True,  True,  True,  True,  True,  True,\n",
              "        True,  True,  True,  True,  True,  True,  True,  True,  True,\n",
              "        True,  True,  True,  True,  True,  True,  True,  True,  True,\n",
              "        True,  True,  True,  True,  True,  True,  True,  True,  True,\n",
              "        True,  True,  True,  True,  True,  True,  True,  True,  True,\n",
              "        True,  True,  True,  True,  True, False, False, False, False,\n",
              "       False, False, False, False, False, False, False, False, False,\n",
              "       False, False, False, False, False, False, False, False, False,\n",
              "       False, False,  True,  True,  True,  True,  True,  True,  True,\n",
              "        True,  True,  True,  True,  True,  True,  True,  True,  True,\n",
              "        True,  True,  True,  True,  True,  True,  True,  True,  True,\n",
              "        True,  True,  True,  True,  True,  True,  True,  True,  True,\n",
              "        True,  True,  True,  True,  True,  True,  True,  True,  True,\n",
              "        True,  True,  True,  True,  True,  True,  True,  True,  True,\n",
              "        True,  True,  True,  True,  True,  True,  True,  True,  True,\n",
              "        True,  True,  True,  True,  True,  True,  True,  True,  True,\n",
              "        True,  True,  True,  True,  True,  True,  True,  True,  True,\n",
              "        True,  True,  True,  True,  True,  True,  True,  True,  True,\n",
              "       False, False, False, False, False, False, False, False, False,\n",
              "       False, False, False, False, False, False, False,  True,  True,\n",
              "        True,  True,  True,  True,  True,  True,  True,  True,  True,\n",
              "        True,  True,  True,  True,  True,  True,  True,  True,  True,\n",
              "        True,  True,  True,  True,  True,  True,  True,  True,  True,\n",
              "        True,  True,  True,  True,  True,  True,  True,  True,  True,\n",
              "        True,  True,  True,  True,  True,  True,  True,  True,  True,\n",
              "        True,  True,  True,  True,  True,  True,  True,  True,  True,\n",
              "        True,  True,  True,  True,  True,  True,  True,  True,  True,\n",
              "        True,  True,  True,  True,  True,  True,  True,  True,  True,\n",
              "        True,  True,  True,  True,  True,  True,  True,  True,  True,\n",
              "        True,  True,  True,  True,  True, False, False, False, False,\n",
              "       False, False, False, False, False, False, False, False])"
            ]
          },
          "metadata": {},
          "execution_count": 43
        }
      ],
      "source": [
        "new_inv_image_arr.any(1)"
      ]
    },
    {
      "cell_type": "code",
      "execution_count": null,
      "metadata": {
        "colab": {
          "base_uri": "https://localhost:8080/"
        },
        "id": "4PtBGJ-xKwEI",
        "outputId": "e0bc4a1e-fc2d-48b4-95e5-37f8d01e5795"
      },
      "outputs": [
        {
          "output_type": "stream",
          "name": "stdout",
          "text": [
            "False 0 1 2 3 4 5 6 7\n",
            "True 8 9 10 11 12 13 14 15 16 17 18 19 20 21 22 23 24 25 26 27 28 29 30 31 32 33 34 35 36 37 38 39 40 41 42 43 44 45 46 47 48 49 50 51 52 53 54 55 56 57 58 59 60 61 62 63 64 65 66 67 68 69 70 71 72 73 74 75 76 77 78 79 80 81 82 83 84 85 86 87 88 89 90 91 92 93 94 95 96 97 98 99 100 101 102 103\n",
            "False 104 105 106 107 108 109 110 111 112 113 114 115 116 117 118 119 120 121 122 123 124 125 126 127\n",
            "True 128 129 130 131 132 133 134 135 136 137 138 139 140 141 142 143 144 145 146 147 148 149 150 151 152 153 154 155 156 157 158 159 160 161 162 163 164 165 166 167 168 169 170 171 172 173 174 175 176 177 178 179 180 181 182 183 184 185 186 187 188 189 190 191 192 193 194 195 196 197 198 199 200 201 202 203 204 205 206 207 208 209 210 211 212 213 214 215\n",
            "False 216 217 218 219 220 221 222 223 224 225 226 227 228 229 230 231\n",
            "True 232 233 234 235 236 237 238 239 240 241 242 243 244 245 246 247 248 249 250 251 252 253 254 255 256 257 258 259 260 261 262 263 264 265 266 267 268 269 270 271 272 273 274 275 276 277 278 279 280 281 282 283 284 285 286 287 288 289 290 291 292 293 294 295 296 297 298 299 300 301 302 303 304 305 306 307 308 309 310 311 312 313 314 315 316 317 318 319\n",
            "False 320 321 322 323 324 325 326 327 328 329 330 331\n"
          ]
        }
      ],
      "source": [
        "for k, g in groupby(np.arange(len(n)), lambda x: n[x] == True):\n",
        "  print(k,*g)"
      ]
    },
    {
      "cell_type": "code",
      "execution_count": null,
      "metadata": {
        "colab": {
          "base_uri": "https://localhost:8080/"
        },
        "id": "Ymq2pmnEMcRr",
        "outputId": "30e4648c-fcca-4e4f-d57c-cb9713950150"
      },
      "outputs": [
        {
          "output_type": "execute_result",
          "data": {
            "text/plain": [
              "(462, 96)"
            ]
          },
          "metadata": {},
          "execution_count": 58
        }
      ],
      "source": [
        "Image.fromarray(rows[0]).size"
      ]
    },
    {
      "cell_type": "code",
      "execution_count": null,
      "metadata": {
        "id": "aXrGS4UwUhax"
      },
      "outputs": [],
      "source": [
        "image = Image.open(\"/content/drive/MyDrive/Datasets/Testing Photos/matrix1.jpg\").convert(\"L\")\n",
        "new_image_arr = np.array(image)\n",
        "new_inv_image_arr = 255 - new_image_arr\n",
        "#final_image_arr = new_inv_image_arr/255.0\n",
        "n = new_inv_image_arr.any(1)\n",
        "rows = [new_inv_image_arr[[*g],:] for k, g in groupby(np.arange(len(n)), lambda x: n[x] != 0) if k]\n",
        "r1 = Image.fromarray(rows[0])\n",
        "r1 = r1.save('r1.png')"
      ]
    },
    {
      "cell_type": "code",
      "execution_count": null,
      "metadata": {
        "colab": {
          "base_uri": "https://localhost:8080/",
          "height": 272
        },
        "id": "Ca958ZxtVwQy",
        "outputId": "3106a84d-b3cf-4f01-dbe8-a74fb5406633"
      },
      "outputs": [
        {
          "output_type": "display_data",
          "data": {
            "text/plain": [
              "<PIL.Image.Image image mode=L size=462x96 at 0x7F79062D4F90>"
            ],
            "image/png": "[encoded data removed]"
          },
          "metadata": {}
        },
        {
          "output_type": "stream",
          "name": "stdout",
          "text": [
            "6\n",
            "(28, 13)\n",
            "(28, 16)\n",
            "(28, 16)\n",
            "(28, 5)\n",
            "(28, 5)\n",
            "(28, 15)\n",
            "WARNING:tensorflow:5 out of the last 5 calls to <function Model.make_predict_function.<locals>.predict_function at 0x7f79807454d0> triggered tf.function retracing. Tracing is expensive and the excessive number of tracings could be due to (1) creating @tf.function repeatedly in a loop, (2) passing tensors with different shapes, (3) passing Python objects instead of tensors. For (1), please define your @tf.function outside of the loop. For (2), @tf.function has experimental_relax_shapes=True option that relaxes argument shapes that can avoid unnecessary retracing. For (3), please refer to https://www.tensorflow.org/guide/function#controlling_retracing and https://www.tensorflow.org/api_docs/python/tf/function for  more details.\n"
          ]
        }
      ],
      "source": [
        "#Prediction\n",
        "\n",
        "from PIL import Image\n",
        "from itertools import groupby\n",
        "image = Image.open(\"/content/r1.png\").convert('L')\n",
        "display(image)\n",
        "w = image.size[0]\n",
        "h = image.size[1]\n",
        "ratio = w/h\n",
        "new_w = int(ratio*28)\n",
        "new_h = 28\n",
        "new_image = image.resize((new_w,new_h))\n",
        "new_image_arr = np.array(new_image)\n",
        "final_image_arr = new_image_arr/255.0\n",
        "m = final_image_arr.any(0)\n",
        "out = [final_image_arr[:,[*g]] for k, g in groupby(np.arange(len(m)), lambda x: m[x] != 0) if k]\n",
        "num_of_elements = len(out)\n",
        "elements_list = []\n",
        "print(num_of_elements)\n",
        "for x in range(0, num_of_elements):\n",
        "    img = out[x]\n",
        "    print(img.shape)\n",
        "    #adding 0 value columns as fillers\n",
        "    width = img.shape[1]\n",
        "    filler = (final_image_arr.shape[0] - width) / 2\n",
        "    \n",
        "    if filler.is_integer() == False:    #odd number of filler columns\n",
        "        filler_l = int(filler)\n",
        "        filler_r = int(filler) + 1\n",
        "    else:                               #even number of filler columns\n",
        "        filler_l = int(filler)\n",
        "        filler_r = int(filler)\n",
        "    \n",
        "    arr_l = np.zeros((final_image_arr.shape[0], filler_l)) #left fillers\n",
        "    arr_r = np.zeros((final_image_arr.shape[0], filler_r)) #right fillers\n",
        "    \n",
        "    #concatinating the left and right fillers\n",
        "    help_ = np.concatenate((arr_l, img), axis= 1)\n",
        "    element_arr = np.concatenate((help_, arr_r), axis= 1)\n",
        "    \n",
        "    element_arr.resize(28, 28, 1) #resize array 2d to 3d\n",
        "    #storing all elements in a list\n",
        "    elements_list.append(element_arr)\n",
        "elements_array = np.array(elements_list)\n",
        "'reshaping to fit model input criteria'\n",
        "elements_array = elements_array.reshape(-1, 28, 28, 1)\n",
        "'predicting using the created model'\n",
        "model = keras.models.load_model(\"/content/drive/MyDrive/Models/kessu.h5\")\n",
        "elements_pred =  model.predict(elements_array)\n",
        "elements_pred = np.argmax(elements_pred, axis = 1)"
      ]
    },
    {
      "cell_type": "code",
      "source": [
        "flagf = 0\n",
        "flagt = 0\n",
        "for i in m:\n",
        "  if(i == False):\n",
        "    flagf+=1\n",
        "    if(flagt!=0):\n",
        "      print(\"flag true \", flagt)\n",
        "      flagt=0\n",
        "  elif(i == True):\n",
        "    flagt+=1\n",
        "    if(flagf!=0):\n",
        "      print(\"flag false \", flagf)\n",
        "      flagf=0"
      ],
      "metadata": {
        "colab": {
          "base_uri": "https://localhost:8080/"
        },
        "id": "inJxDFAjCBlW",
        "outputId": "2bd1eff7-2024-4c9b-9ff5-b38e5aea95b7"
      },
      "execution_count": null,
      "outputs": [
        {
          "output_type": "stream",
          "name": "stdout",
          "text": [
            "flag false  8\n",
            "flag true  13\n",
            "flag false  2\n",
            "flag true  16\n",
            "flag false  14\n",
            "flag true  16\n",
            "flag false  3\n",
            "flag true  5\n",
            "flag false  25\n",
            "flag true  5\n",
            "flag false  2\n",
            "flag true  15\n"
          ]
        }
      ]
    },
    {
      "cell_type": "code",
      "execution_count": null,
      "metadata": {
        "colab": {
          "base_uri": "https://localhost:8080/"
        },
        "id": "afsh8bu9XP78",
        "outputId": "c18020bb-d1e6-4e16-954e-695f17e7042f"
      },
      "outputs": [
        {
          "output_type": "execute_result",
          "data": {
            "text/plain": [
              "array([4, 2, 2, 1, 1, 8])"
            ]
          },
          "metadata": {},
          "execution_count": 68
        }
      ],
      "source": [
        "elements_pred"
      ]
    },
    {
      "cell_type": "code",
      "source": [
        "def matrix(path):\n",
        "  from PIL import Image\n",
        "  from itertools import groupby\n",
        "  'loading image in grayscale'\n",
        "  image = Image.open(path).convert(\"L\")\n",
        "  new_image_arr = np.array(image)\n",
        "  new_inv_image_arr = 255 - new_image_arr\n",
        "  #final_image_arr = new_inv_image_arr/255.0\n",
        "  n = new_inv_image_arr.any(1)\n",
        "  rows = [new_inv_image_arr[[*g],:] for k, g in groupby(np.arange(len(n)), lambda x: n[x] != 0) if k]\n",
        "  whole_matrix\n",
        "  for i"
      ],
      "metadata": {
        "id": "JCsq2Zu1-m-n"
      },
      "execution_count": null,
      "outputs": []
    }
  ],
  "metadata": {
    "accelerator": "GPU",
    "colab": {
      "collapsed_sections": [],
      "provenance": []
    },
    "kernelspec": {
      "display_name": "Python 3",
      "name": "python3"
    },
    "language_info": {
      "name": "python"
    }
  },
  "nbformat": 4,
  "nbformat_minor": 0
}